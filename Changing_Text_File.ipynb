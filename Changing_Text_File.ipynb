{
 "cells": [
  {
   "cell_type": "code",
   "execution_count": 1,
   "metadata": {},
   "outputs": [
    {
     "name": "stdout",
     "output_type": "stream",
     "text": [
      "Overwriting test.txt\n"
     ]
    }
   ],
   "source": [
    "%%writefile test.txt\n",
    "xxx\",\"\",\"\",\"11\",\"\"\n",
    "zzz\",\"\",\"\",\"12\",\"\"\n",
    "ddd\",\"\",\"\",\"54\",\"\""
   ]
  },
  {
   "cell_type": "code",
   "execution_count": 2,
   "metadata": {
    "collapsed": true
   },
   "outputs": [],
   "source": [
    "with open('test.txt', 'r') as f:\n",
    "    with open('output.txt', 'w') as o:\n",
    "        for line in f:\n",
    "            line = line.strip('\\n')\n",
    "            line = list(line)\n",
    "            line[-1] = '0\"'\n",
    "            line = ''.join(line)\n",
    "            o.write(line + '\\n')\n",
    "        o.close\n",
    "    f.close()"
   ]
  },
  {
   "cell_type": "code",
   "execution_count": 3,
   "metadata": {},
   "outputs": [
    {
     "name": "stdout",
     "output_type": "stream",
     "text": [
      "xxx\",\"\",\"\",\"11\",\"0\"\r\n",
      "zzz\",\"\",\"\",\"12\",\"0\"\r\n",
      "ddd\",\"\",\"\",\"54\",\"0\"\r\n"
     ]
    }
   ],
   "source": [
    "%cat output.txt"
   ]
  }
 ],
 "metadata": {
  "kernelspec": {
   "display_name": "Python 3",
   "language": "python",
   "name": "python3"
  },
  "language_info": {
   "codemirror_mode": {
    "name": "ipython",
    "version": 3
   },
   "file_extension": ".py",
   "mimetype": "text/x-python",
   "name": "python",
   "nbconvert_exporter": "python",
   "pygments_lexer": "ipython3",
   "version": "3.6.1"
  }
 },
 "nbformat": 4,
 "nbformat_minor": 2
}
