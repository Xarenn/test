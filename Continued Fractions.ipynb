{
 "cells": [
  {
   "cell_type": "markdown",
   "metadata": {},
   "source": [
    "## Continued fractions examples\n",
    "https://en.wikipedia.org/wiki/Continued_fraction"
   ]
  },
  {
   "cell_type": "code",
   "execution_count": 1,
   "metadata": {},
   "outputs": [],
   "source": [
    "import math"
   ]
  },
  {
   "cell_type": "code",
   "execution_count": 2,
   "metadata": {},
   "outputs": [],
   "source": [
    "def cf(num, den):\n",
    "    \"\"\"Returns the finite continued fraction expansion\n",
    "    as a list\"\"\"\n",
    "    if den == 0: return []  \n",
    "    q = num // den                     \n",
    "    r = num - q * den                  \n",
    "    return [q] + cf(den, r)"
   ]
  },
  {
   "cell_type": "code",
   "execution_count": 3,
   "metadata": {},
   "outputs": [
    {
     "data": {
      "text/plain": [
       "[1, 2, 2]"
      ]
     },
     "execution_count": 3,
     "metadata": {},
     "output_type": "execute_result"
    }
   ],
   "source": [
    "pi = math.pi\n",
    "cf(7, 5)"
   ]
  },
  {
   "cell_type": "code",
   "execution_count": 4,
   "metadata": {},
   "outputs": [],
   "source": [
    "def inf_cf(a, iterations=10):\n",
    "    \"\"\"Takes an irrational number an returns its\n",
    "    continued fraction expansion (up to some limit)\"\"\"\n",
    "    it = iterations\n",
    "    a0 = math.floor(a)\n",
    "    u1 = 1 / (a - a0) \n",
    "    output = []\n",
    "    output.append(a0)\n",
    "    for i in range(it):\n",
    "        a1 = math.floor(u1)\n",
    "        output.append(a1)\n",
    "        u1 = 1 / (u1 - a1)\n",
    "        a1 = math.floor(u1)\n",
    "    return output"
   ]
  },
  {
   "cell_type": "code",
   "execution_count": 5,
   "metadata": {},
   "outputs": [
    {
     "data": {
      "text/plain": [
       "[3, 7, 15, 1, 292, 1, 1, 1, 2, 1, 3, 1, 14, 3, 3, 23, 1, 1, 7, 4, 35]"
      ]
     },
     "execution_count": 5,
     "metadata": {},
     "output_type": "execute_result"
    }
   ],
   "source": [
    "inf_cf(pi, 20)"
   ]
  },
  {
   "cell_type": "code",
   "execution_count": 6,
   "metadata": {},
   "outputs": [
    {
     "data": {
      "text/plain": [
       "[4, 2, 1, 3, 1, 2, 8, 2, 1, 3, 1]"
      ]
     },
     "execution_count": 6,
     "metadata": {},
     "output_type": "execute_result"
    }
   ],
   "source": [
    "inf_cf(math.sqrt(19))"
   ]
  },
  {
   "cell_type": "code",
   "execution_count": 7,
   "metadata": {},
   "outputs": [],
   "source": [
    "# Pseudo functional:\n",
    "def rest(xs):\n",
    "    return xs[1:]\n",
    "\n",
    "def head(xs):\n",
    "    return xs[0]\n",
    "\n",
    "def empy(xs):\n",
    "    return True if not xs else False"
   ]
  },
  {
   "cell_type": "code",
   "execution_count": 8,
   "metadata": {},
   "outputs": [],
   "source": [
    "def cf_to_real(xs):\n",
    "    \"\"\"Takes a continued fraction expansion as\n",
    "    a list and returns a real number\"\"\"\n",
    "    if len(xs) == 1: return head(xs)\n",
    "    else:\n",
    "        return head(xs) + 1 / cf_to_real(rest(xs))"
   ]
  },
  {
   "cell_type": "code",
   "execution_count": 9,
   "metadata": {},
   "outputs": [
    {
     "data": {
      "text/plain": [
       "3.1415926535898153"
      ]
     },
     "execution_count": 9,
     "metadata": {},
     "output_type": "execute_result"
    }
   ],
   "source": [
    "cf_to_real([3, 7, 15, 1, 292, 1, 1, 1, 2, 1, 3, 1])  # Pi"
   ]
  },
  {
   "cell_type": "code",
   "execution_count": 12,
   "metadata": {},
   "outputs": [
    {
     "data": {
      "text/plain": [
       "1.6180327868852458"
      ]
     },
     "execution_count": 12,
     "metadata": {},
     "output_type": "execute_result"
    }
   ],
   "source": [
    "cf_to_real([1, 1, 1, 1, 1, 1, 1, 1, 1, 1, 1, 1, 1, 1, 1]) # Golden ratio, very slow"
   ]
  },
  {
   "cell_type": "code",
   "execution_count": 11,
   "metadata": {},
   "outputs": [
    {
     "data": {
      "text/plain": [
       "1.618033988749895"
      ]
     },
     "execution_count": 11,
     "metadata": {},
     "output_type": "execute_result"
    }
   ],
   "source": [
    "(1 + math.sqrt(5)) / 2 # Golden ratio"
   ]
  }
 ],
 "metadata": {
  "kernelspec": {
   "display_name": "Python 3",
   "language": "python",
   "name": "python3"
  },
  "language_info": {
   "codemirror_mode": {
    "name": "ipython",
    "version": 3
   },
   "file_extension": ".py",
   "mimetype": "text/x-python",
   "name": "python",
   "nbconvert_exporter": "python",
   "pygments_lexer": "ipython3",
   "version": "3.7.0"
  }
 },
 "nbformat": 4,
 "nbformat_minor": 2
}
